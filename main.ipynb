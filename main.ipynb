{
 "cells": [
  {
   "cell_type": "markdown",
   "id": "79c6456b",
   "metadata": {},
   "source": [
    "# Forcasting"
   ]
  },
  {
   "cell_type": "markdown",
   "id": "487d90e8",
   "metadata": {},
   "source": [
    "### Loading Libraries"
   ]
  },
  {
   "cell_type": "code",
   "execution_count": 1,
   "id": "81fa3c36",
   "metadata": {},
   "outputs": [
    {
     "name": "stderr",
     "output_type": "stream",
     "text": [
      "C:\\Users\\Seyar\\AppData\\Roaming\\Python\\Python313\\site-packages\\tqdm\\auto.py:21: TqdmWarning: IProgress not found. Please update jupyter and ipywidgets. See https://ipywidgets.readthedocs.io/en/stable/user_install.html\n",
      "  from .autonotebook import tqdm as notebook_tqdm\n",
      "Importing plotly failed. Interactive plots will not work.\n"
     ]
    },
    {
     "name": "stdout",
     "output_type": "stream",
     "text": [
      "All libraries imported successfully!\n"
     ]
    }
   ],
   "source": [
    "import pandas as pd\n",
    "import numpy as np\n",
    "import prophet\n",
    "from prophet import Prophet\n",
    "import matplotlib.pyplot as plt\n",
    "import seaborn as sns\n",
    "import yfinance as yf\n",
    "print(\"All libraries imported successfully!\") "
   ]
  },
  {
   "cell_type": "markdown",
   "id": "1da21bed",
   "metadata": {},
   "source": [
    "### Get Data from EDGAR using edgartool package"
   ]
  },
  {
   "cell_type": "code",
   "execution_count": 22,
   "id": "515200a9",
   "metadata": {},
   "outputs": [
    {
     "name": "stdout",
     "output_type": "stream",
     "text": [
      "yfinance.Ticker object <AAPL>\n",
      "            Tax Effect Of Unusual Items  Tax Rate For Calcs  \\\n",
      "2025-06-30                          0.0            0.163997   \n",
      "2025-03-31                          0.0            0.155000   \n",
      "2024-12-31                          0.0            0.147000   \n",
      "2024-09-30                          0.0            0.210000   \n",
      "2024-06-30                          0.0            0.159000   \n",
      "\n",
      "            Normalized EBITDA  \\\n",
      "2025-06-30       3.103200e+10   \n",
      "2025-03-31       3.225000e+10   \n",
      "2024-12-31       4.591200e+10   \n",
      "2024-09-30       3.250200e+10   \n",
      "2024-06-30       2.820200e+10   \n",
      "\n",
      "            Net Income From Continuing Operation Net Minority Interest  \\\n",
      "2025-06-30                                       2.343400e+10            \n",
      "2025-03-31                                       2.478000e+10            \n",
      "2024-12-31                                       3.633000e+10            \n",
      "2024-09-30                                       1.473600e+10            \n",
      "2024-06-30                                       2.144800e+10            \n",
      "\n",
      "            Reconciled Depreciation  Reconciled Cost Of Revenue        EBITDA  \\\n",
      "2025-06-30             2.830000e+09                5.031800e+10  3.103200e+10   \n",
      "2025-03-31             2.661000e+09                5.049200e+10  3.225000e+10   \n",
      "2024-12-31             3.080000e+09                6.602500e+10  4.591200e+10   \n",
      "2024-09-30             2.911000e+09                5.105100e+10  3.250200e+10   \n",
      "2024-06-30             2.850000e+09                4.609900e+10  2.820200e+10   \n",
      "\n",
      "                    EBIT  Normalized Income  \\\n",
      "2025-06-30  2.820200e+10       2.343400e+10   \n",
      "2025-03-31  2.958900e+10       2.478000e+10   \n",
      "2024-12-31  4.283200e+10       3.633000e+10   \n",
      "2024-09-30  2.959100e+10       1.473600e+10   \n",
      "2024-06-30  2.535200e+10       2.144800e+10   \n",
      "\n",
      "            Net Income From Continuing And Discontinued Operation  ...  \\\n",
      "2025-06-30                                       2.343400e+10      ...   \n",
      "2025-03-31                                       2.478000e+10      ...   \n",
      "2024-12-31                                       3.633000e+10      ...   \n",
      "2024-09-30                                       1.473600e+10      ...   \n",
      "2024-06-30                                       2.144800e+10      ...   \n",
      "\n",
      "            Other Income Expense  Other Non Operating Income Expenses  \\\n",
      "2025-06-30          -171000000.0                         -171000000.0   \n",
      "2025-03-31          -279000000.0                         -279000000.0   \n",
      "2024-12-31          -248000000.0                         -248000000.0   \n",
      "2024-09-30            19000000.0                           19000000.0   \n",
      "2024-06-30           142000000.0                          142000000.0   \n",
      "\n",
      "            Operating Income  Operating Expense  Research And Development  \\\n",
      "2025-06-30      2.820200e+10       1.551600e+10              8.866000e+09   \n",
      "2025-03-31      2.958900e+10       1.527800e+10              8.550000e+09   \n",
      "2024-12-31      4.283200e+10       1.544300e+10              8.268000e+09   \n",
      "2024-09-30      2.959100e+10       1.428800e+10              7.765000e+09   \n",
      "2024-06-30      2.535200e+10       1.432600e+10              8.006000e+09   \n",
      "\n",
      "            Selling General And Administration  Gross Profit  Cost Of Revenue  \\\n",
      "2025-06-30                        6.650000e+09  4.371800e+10     5.031800e+10   \n",
      "2025-03-31                        6.728000e+09  4.486700e+10     5.049200e+10   \n",
      "2024-12-31                        7.175000e+09  5.827500e+10     6.602500e+10   \n",
      "2024-09-30                        6.523000e+09  4.387900e+10     5.105100e+10   \n",
      "2024-06-30                        6.320000e+09  3.967800e+10     4.609900e+10   \n",
      "\n",
      "            Total Revenue  Operating Revenue  \n",
      "2025-06-30   9.403600e+10       9.403600e+10  \n",
      "2025-03-31   9.535900e+10       9.535900e+10  \n",
      "2024-12-31   1.243000e+11       1.243000e+11  \n",
      "2024-09-30   9.493000e+10       9.493000e+10  \n",
      "2024-06-30   8.577700e+10       8.577700e+10  \n",
      "\n",
      "[5 rows x 33 columns]\n"
     ]
    }
   ],
   "source": [
    "ticker = yf.Ticker(\"AAPL\")\n",
    "print(ticker)\n",
    "financials = ticker.quarterly_financials.T\n",
    "print(financials)\n",
    "financials.to_csv(\"apple_quarterly_financials.csv\")"
   ]
  },
  {
   "cell_type": "markdown",
   "id": "96563d55",
   "metadata": {},
   "source": [
    "### Cleaning & Modeling Dataset "
   ]
  },
  {
   "cell_type": "code",
   "execution_count": 3,
   "id": "fdc41299",
   "metadata": {},
   "outputs": [
    {
     "name": "stdout",
     "output_type": "stream",
     "text": [
      "Cleaned data:\n",
      "         Date   Revenue  Expense\n",
      "4 2024-06-30   85777.0  14326.0\n",
      "3 2024-09-30   94930.0  14288.0\n",
      "2 2024-12-31  124300.0  15443.0\n",
      "1 2025-03-31   95359.0  15278.0\n",
      "0 2025-06-30   94036.0  15516.0\n"
     ]
    },
    {
     "name": "stderr",
     "output_type": "stream",
     "text": [
      "C:\\Users\\Seyar\\AppData\\Local\\Temp\\ipykernel_9864\\420046967.py:10: FutureWarning: DataFrame.fillna with 'method' is deprecated and will raise in a future version. Use obj.ffill() or obj.bfill() instead.\n",
      "  df.fillna(method='ffill' , inplace=True)\n"
     ]
    }
   ],
   "source": [
    "df = pd.read_csv(\"apple_quarterly_financials.csv\")\n",
    "df = pd.DataFrame(df)\n",
    "df = df.rename(columns=({'Unnamed: 0' : 'Date'}))\n",
    "df['Date'] = pd.to_datetime(df['Date'])\n",
    "df = df[['Date','Total Revenue','Operating Expense']]\n",
    "df = df.rename(columns=({'Total Revenue':'Revenue' , 'Operating Expense':'Expense' }))\n",
    "df['Revenue'] = df['Revenue'] / 1000000\n",
    "df['Expense'] = df['Expense'] / 1000000\n",
    "# print(\"Missing Value :\\n\" ,df.isnull().sum())\n",
    "df.fillna(method='ffill' , inplace=True)\n",
    "df = df[df['Revenue'] > 0]\n",
    "df = df[df['Expense'] > 0]\n",
    "df = df.sort_values('Date')\n",
    "df.to_csv(\"cleaned_financials.csv\", index=False)\n",
    "print(\"Cleaned data:\\n\", df.head())"
   ]
  },
  {
   "cell_type": "markdown",
   "id": "2393a221",
   "metadata": {},
   "source": [
    "### Plotting Revenue and Expenses"
   ]
  },
  {
   "cell_type": "code",
   "execution_count": 13,
   "id": "63bd1200",
   "metadata": {},
   "outputs": [
    {
     "data": {
      "image/png": "[encoded data removed]",
      "text/plain": [
       "<Figure size 800x400 with 1 Axes>"
      ]
     },
     "metadata": {},
     "output_type": "display_data"
    }
   ],
   "source": [
    "df = pd.read_csv(\"cleaned_financials.csv\")\n",
    "df['Date'] = pd.to_datetime(df['Date'])\n",
    "\n",
    "plt.figure(figsize=(8, 4))\n",
    "sns.lineplot(data = df , x ='Date' , y='Revenue' , label = 'Revenue ($M)')\n",
    "sns.lineplot(data = df , x='Date'  , y='Expense' , label='Expense ($M)')\n",
    "plt.title(\"Apple Revenue and Expenses (2024 - 2025)\")\n",
    "plt.xticks(rotation=45)\n",
    "plt.savefig(\"Visuals/apple_revenue_expenses.png\")\n",
    "plt.show()"
   ]
  }
 ],
 "metadata": {
  "kernelspec": {
   "display_name": "Python 3",
   "language": "python",
   "name": "python3"
  },
  "language_info": {
   "codemirror_mode": {
    "name": "ipython",
    "version": 3
   },
   "file_extension": ".py",
   "mimetype": "text/x-python",
   "name": "python",
   "nbconvert_exporter": "python",
   "pygments_lexer": "ipython3",
   "version": "3.13.7"
  }
 },
 "nbformat": 4,
 "nbformat_minor": 5
}
